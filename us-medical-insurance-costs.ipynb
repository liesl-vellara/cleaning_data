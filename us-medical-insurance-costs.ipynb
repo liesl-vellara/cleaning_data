{
 "cells": [
  {
   "cell_type": "markdown",
   "metadata": {},
   "source": [
    "# U.S. Medical Insurance Costs"
   ]
  },
  {
   "cell_type": "markdown",
   "metadata": {},
   "source": [
    "# Appending the data to list"
   ]
  },
  {
   "cell_type": "markdown",
   "metadata": {},
   "source": [
    "Explaining what each data stands for\n",
    "age = string of integers\n",
    "bmi is a string of float\n",
    "sex has been changed to ones and zero\n",
    "    male = 1\n",
    "    female = 0\n",
    "number of children is the string of integers\n",
    "smokers have been changed to ones and zeros\n",
    "    smoker = 1\n",
    "    non-smokers =0\n",
    "region is divided into northeast, northwest, southeast, southwest\n",
    "charges is a string of float"
   ]
  },
  {
   "cell_type": "code",
   "execution_count": 4,
   "metadata": {},
   "outputs": [],
   "source": [
    "age = []\n",
    "sex = []\n",
    "bmi = []\n",
    "children = []\n",
    "smoker = []\n",
    "region = []\n",
    "charges = []\n",
    "import csv\n",
    "with open('insurance.csv') as insurance_file:\n",
    "    #inspecting the csv file\n",
    "    #print(insurance_file.read())\n",
    "    dictreader = csv.DictReader(insurance_file)\n",
    "    \n",
    "    for row in dictreader:\n",
    "        age.append(row['age'])\n",
    "        if row['sex'] == 'male':\n",
    "            sex.append(1)\n",
    "        else:\n",
    "            sex.append(0)\n",
    "        bmi.append(row['bmi'])\n",
    "        children.append(row['children'])\n",
    "        if row['smoker'] == 'yes':\n",
    "            smoker.append(1)\n",
    "        else:\n",
    "            smoker.append(0)\n",
    "        region.append(row['region'])\n",
    "        charges.append(row['charges'])\n",
    " \n",
    "#checking the lists we created\n",
    "#print(age, sex, bmi, children, smoker, region, charges)\n",
    "#print(sex)"
   ]
  },
  {
   "cell_type": "markdown",
   "metadata": {},
   "source": [
    "# Checking the average age of the data"
   ]
  },
  {
   "cell_type": "code",
   "execution_count": 17,
   "metadata": {},
   "outputs": [
    {
     "name": "stdout",
     "output_type": "stream",
     "text": [
      "39.20702541106129\n"
     ]
    }
   ],
   "source": [
    "def average_age():\n",
    "    total_age = 0\n",
    "    for data in age:\n",
    "        total_age += int(data)\n",
    "    average = total_age/ len(age)\n",
    "    return average\n",
    "print(average_age())"
   ]
  },
  {
   "cell_type": "markdown",
   "metadata": {},
   "source": [
    "# Checking where majority of Individuals are from"
   ]
  },
  {
   "cell_type": "code",
   "execution_count": 21,
   "metadata": {},
   "outputs": [
    {
     "name": "stdout",
     "output_type": "stream",
     "text": [
      "The number of people from SouthWest is 325 .\n",
      "The number of people from SouthEast is 364 .\n",
      "The number of people from NorthWest is 325 .\n",
      "The number of people from NorthEast is 324 .\n"
     ]
    }
   ],
   "source": [
    "#print(region)\n",
    "#looks like there are southwest, southeast, northwest, northeast. Therefore,there are four places\n",
    "def place():\n",
    "    total_southwest = 0\n",
    "    total_southeast = 0\n",
    "    total_northwest = 0\n",
    "    total_northeast = 0\n",
    "    for data in region:\n",
    "        if data == 'southwest':\n",
    "            total_southwest += 1\n",
    "        elif data == 'southeast':\n",
    "            total_southeast += 1\n",
    "        elif data == 'northwest':\n",
    "            total_northwest += 1\n",
    "        else:\n",
    "            total_northeast += 1\n",
    "    print(\"The number of people from SouthWest is \" + str(total_southwest) + ' .')\n",
    "    print(\"The number of people from SouthEast is \" + str(total_southeast) + ' .')\n",
    "    print(\"The number of people from NorthWest is \" + str(total_northwest) + ' .')\n",
    "    return \"The number of people from NorthEast is \" + str(total_northeast) + ' .'\n",
    "\n",
    "print(place())"
   ]
  },
  {
   "cell_type": "markdown",
   "metadata": {},
   "source": [
    "# Difference in cost between people who smoke and those who do not"
   ]
  },
  {
   "cell_type": "markdown",
   "metadata": {},
   "source": [
    "The total number of smokers and non smokers are largely different, so the average of cost of smoking and average of cost of non smoking as do be done with the actual number of smokers in the list and the actual numbers of non smokers in the list"
   ]
  },
  {
   "cell_type": "code",
   "execution_count": 28,
   "metadata": {},
   "outputs": [
    {
     "name": "stdout",
     "output_type": "stream",
     "text": [
      "32050.23183153285 8434.268297856199\n",
      "23615.96353367665\n"
     ]
    }
   ],
   "source": [
    "def cost_of_smoking():\n",
    "    smoker_x_charges = list(zip(smoker, charges))\n",
    "    total_smoker_charge = 0\n",
    "    total_non_smoker_charge = 0\n",
    "    number_of_smoker = []\n",
    "    number_of_non_smoker = []\n",
    "    for x, y in smoker_x_charges:\n",
    "        if x == 1:\n",
    "            total_smoker_charge += float(y)\n",
    "            number_of_smoker.append(x)\n",
    "        else:\n",
    "            total_non_smoker_charge += float(y)\n",
    "            number_of_non_smoker.append(x)\n",
    "    average_smoker_charge = total_smoker_charge / len(number_of_smoker)\n",
    "    average_non_smoker_charges = total_non_smoker_charge/ len(number_of_non_smoker)\n",
    "    #print(total_smoker_charge, total_non_smoker_charge)\n",
    "    #print(average_smoker_charge, average_non_smoker_charges)\n",
    "    difference = average_smoker_charge - average_non_smoker_charges\n",
    "    return difference\n",
    "print(cost_of_smoking())"
   ]
  },
  {
   "cell_type": "code",
   "execution_count": 30,
   "metadata": {},
   "outputs": [
    {
     "name": "stdout",
     "output_type": "stream",
     "text": [
      "39.78010471204188\n"
     ]
    }
   ],
   "source": [
    "def with_child_age():\n",
    "    children_x_age = list(zip(children, age))\n",
    "    total_age_with_child = 0\n",
    "    num_people_with_child = 0\n",
    "    for x, y in children_x_age:\n",
    "        if int(x) >= 1:\n",
    "            total_age_with_child += int(y)\n",
    "            num_people_with_child += 1\n",
    "    average_age = total_age_with_child/ num_people_with_child\n",
    "    return average_age\n",
    "print(with_child_age())"
   ]
  },
  {
   "cell_type": "markdown",
   "metadata": {},
   "source": [
    "# Difference in cost between men and women"
   ]
  },
  {
   "cell_type": "code",
   "execution_count": 16,
   "metadata": {},
   "outputs": [
    {
     "name": "stdout",
     "output_type": "stream",
     "text": [
      "The average difference in cost between men and women 1387.1723338865468\n",
      "9991.03765 10043.249\n"
     ]
    }
   ],
   "source": [
    "def difference_gender():\n",
    "    total_male = 0\n",
    "    total_female = 0\n",
    "    total_male_charges = 0\n",
    "    total_female_charges = 0\n",
    "    gender_x_charges = list(zip(sex, charges))\n",
    "    for x, y in gender_x_charges:\n",
    "        if x == 1:\n",
    "            total_male +=1\n",
    "            total_male_charges += float(y)\n",
    "        else:\n",
    "            total_female += 1\n",
    "            total_female_charges += float(y)\n",
    "            \n",
    "    average_male = total_male_charges/ total_male\n",
    "    average_female = total_female_charges / total_female\n",
    "    difference = average_male - average_female\n",
    "    return 'The average difference in cost between men and women ' + str(difference)\n",
    "print(difference_gender())\n"
   ]
  },
  {
   "cell_type": "markdown",
   "metadata": {},
   "source": [
    "# Lowest Insurance Cost Function brought as a dictionary with all their related data collected "
   ]
  },
  {
   "cell_type": "code",
   "execution_count": 26,
   "metadata": {},
   "outputs": [
    {
     "name": "stdout",
     "output_type": "stream",
     "text": [
      "{1: ('18', 1, '23.21', '0', 0, 'southeast', '1121.8739')}\n"
     ]
    }
   ],
   "source": [
    "charges_float = []\n",
    "for data in charges:\n",
    "    charges_float.append(float(data))\n",
    "#print(max(charges_float))\n",
    "#print(min(charges_float))\n",
    "def lowest_amount():\n",
    "    zipped_doc = list(zip(age, sex, bmi, children, smoker, region, charges))\n",
    "    lowest_dic = {}\n",
    "    for i in range(len(charges_float)-1):\n",
    "        if charges_float[i] == min(charges_float):\n",
    "            lowest_dic[1] = zipped_doc[i]\n",
    "    return lowest_dic\n",
    "print(lowest_amount())"
   ]
  },
  {
   "cell_type": "markdown",
   "metadata": {},
   "source": [
    "# Max Insurance Cost Function brought as a dictionary with all their related data collected"
   ]
  },
  {
   "cell_type": "code",
   "execution_count": 27,
   "metadata": {},
   "outputs": [
    {
     "name": "stdout",
     "output_type": "stream",
     "text": [
      "{1: ('54', 0, '47.41', '0', 1, 'southeast', '63770.42801')}\n"
     ]
    }
   ],
   "source": [
    "def highest_amount():\n",
    "    zipped_doc = list(zip(age, sex, bmi, children, smoker, region, charges))\n",
    "    highest_dic = {}\n",
    "    for i in range(len(charges_float)-1):\n",
    "        if charges_float[i] == max(charges_float):\n",
    "            highest_dic[1] = zipped_doc[i]\n",
    "    return highest_dic\n",
    "print(highest_amount())"
   ]
  },
  {
   "cell_type": "markdown",
   "metadata": {},
   "source": [
    "# Predictions in regards to smokers and non smokers"
   ]
  },
  {
   "cell_type": "code",
   "execution_count": 37,
   "metadata": {},
   "outputs": [
    {
     "name": "stdout",
     "output_type": "stream",
     "text": [
      "1 Your insurance cost will reduce if you quit smoking\n"
     ]
    }
   ],
   "source": [
    "def reduction_caused_smoking(number):\n",
    "    for i in range(len(smoker) - 1):\n",
    "        if smoker[number] == 1:\n",
    "            return \"Your insurance cost will reduce if you quit smoking\"\n",
    "        else:\n",
    "            return \"Congradulations!! You're not setting your lungs on fire\"\n",
    "#print(smoker[0], reduction_caused_smoking(0))"
   ]
  },
  {
   "cell_type": "markdown",
   "metadata": {},
   "source": [
    "# Predictions in regards to bmi"
   ]
  },
  {
   "cell_type": "code",
   "execution_count": 46,
   "metadata": {},
   "outputs": [
    {
     "name": "stdout",
     "output_type": "stream",
     "text": [
      "Your BMI is too high, please consider bringing it down to the range of 20 - 30. Reduction will reduce your insurance\n"
     ]
    }
   ],
   "source": [
    "def changeincost_bmi(number):\n",
    "    bmi_float = []\n",
    "    for data in bmi:\n",
    "        bmi_float.append(float(data))\n",
    "    #print(min(bmi_float))\n",
    "    for i in range(len(bmi) -1):\n",
    "        if bmi_float[number] >= 30:\n",
    "            return \"Your BMI is too high, please consider bringing it down to the range of 20 - 30. Reduction will reduce your insurance\"\n",
    "        if bmi_float[number] >= 20 and bmi_float[number] < 30:\n",
    "            return \"Congradulation! Your BMI is in the healthy range, this does not affect the cost of your insurance\"\n",
    "        if bmi_float[number] < 20:\n",
    "            return \"Your insurance cannot be improved, but please do consider a healther lifestyle\"\n",
    "#print(changeincost_bmi(1))"
   ]
  },
  {
   "cell_type": "code",
   "execution_count": 49,
   "metadata": {},
   "outputs": [
    {
     "name": "stdout",
     "output_type": "stream",
     "text": [
      "The average cost due to a people from the NorthEast is 13406.3845163858\n",
      "The average cost due to a people from the NorthWest is 12417.575373969228\n",
      "The average cost due to a people from the SouthEast is 14735.411437609895\n",
      "The average cost due to a people from the SouthWest is 12346.93737729231\n"
     ]
    }
   ],
   "source": [
    "def avg_cost_places():\n",
    "    north_east = 0\n",
    "    north_west = 0\n",
    "    south_east = 0\n",
    "    south_west = 0\n",
    "    num_north_east = 0\n",
    "    num_north_west = 0\n",
    "    num_south_east = 0\n",
    "    num_south_west = 0\n",
    "    zipped = list(zip(region, charges))\n",
    "    for x, y in zipped:\n",
    "        if x == 'northeast':\n",
    "            north_east += float(y)\n",
    "            num_north_east += 1\n",
    "        elif x == 'northwest':\n",
    "            north_west += float(y)\n",
    "            num_north_west +=1\n",
    "        elif x == 'southeast':\n",
    "            south_east += float(y)\n",
    "            num_south_east += 1\n",
    "        else:\n",
    "            south_west += float(y)\n",
    "            num_south_west += 1\n",
    "    avg_ne = north_east/ num_north_east\n",
    "    avg_nw = north_west/ num_north_west\n",
    "    avg_se = south_east/ num_south_east\n",
    "    avg_sw = south_west/ num_south_west\n",
    "    print('The average cost due to a people from the NorthEast is ' + str(avg_ne))\n",
    "    print('The average cost due to a people from the NorthWest is ' + str(avg_nw))\n",
    "    print('The average cost due to a people from the SouthEast is ' + str(avg_se))\n",
    "    return 'The average cost due to a people from the SouthWest is ' + str(avg_sw)\n",
    "#print(avg_cost_places())   "
   ]
  },
  {
   "cell_type": "markdown",
   "metadata": {},
   "source": [
    "# How to reduce ones insurance"
   ]
  },
  {
   "cell_type": "code",
   "execution_count": 51,
   "metadata": {},
   "outputs": [
    {
     "name": "stdout",
     "output_type": "stream",
     "text": [
      "Congradulations!! You're not setting your lungs on fire\n",
      "Your BMI is too high, please consider bringing it down to the range of 20 - 30. Reduction will reduce your insurance\n"
     ]
    }
   ],
   "source": [
    "def cumulative_reduction(number):\n",
    "    print(reduction_caused_smoking(number))\n",
    "    return changeincost_bmi(number)\n",
    "#print(cumulative_reduction())"
   ]
  },
  {
   "cell_type": "markdown",
   "metadata": {},
   "source": [
    "# Making a dataframe"
   ]
  },
  {
   "cell_type": "code",
   "execution_count": 3,
   "metadata": {},
   "outputs": [
    {
     "name": "stdout",
     "output_type": "stream",
     "text": [
      "   age     sex     bmi  children smoker     region      charges\n",
      "0   19  female  27.900         0    yes  southwest  16884.92400\n",
      "1   18    male  33.770         1     no  southeast   1725.55230\n",
      "2   28    male  33.000         3     no  southeast   4449.46200\n",
      "3   33    male  22.705         0     no  northwest  21984.47061\n",
      "4   32    male  28.880         0     no  northwest   3866.85520\n"
     ]
    }
   ],
   "source": [
    "import pandas as pd\n",
    "insurance = pd.read_csv('insurance.csv')\n",
    "print(insurance.head())"
   ]
  },
  {
   "cell_type": "code",
   "execution_count": 4,
   "metadata": {},
   "outputs": [
    {
     "name": "stdout",
     "output_type": "stream",
     "text": [
      "Index(['age', 'sex', 'bmi', 'children', 'smoker', 'region', 'charges'], dtype='object')\n",
      "age           int64\n",
      "sex          object\n",
      "bmi         float64\n",
      "children      int64\n",
      "smoker       object\n",
      "region       object\n",
      "charges     float64\n",
      "dtype: object\n"
     ]
    }
   ],
   "source": [
    "#lets check on some values of this dataframe\n",
    "print(insurance.columns)\n",
    "print(insurance.dtypes)"
   ]
  },
  {
   "cell_type": "code",
   "execution_count": 5,
   "metadata": {},
   "outputs": [
    {
     "name": "stdout",
     "output_type": "stream",
     "text": [
      "<class 'pandas.core.frame.DataFrame'>\n",
      "RangeIndex: 1338 entries, 0 to 1337\n",
      "Data columns (total 7 columns):\n",
      " #   Column    Non-Null Count  Dtype  \n",
      "---  ------    --------------  -----  \n",
      " 0   age       1338 non-null   int64  \n",
      " 1   sex       1338 non-null   object \n",
      " 2   bmi       1338 non-null   float64\n",
      " 3   children  1338 non-null   int64  \n",
      " 4   smoker    1338 non-null   object \n",
      " 5   region    1338 non-null   object \n",
      " 6   charges   1338 non-null   float64\n",
      "dtypes: float64(2), int64(2), object(3)\n",
      "memory usage: 73.3+ KB\n",
      "None\n",
      "               age          bmi     children       charges\n",
      "count  1338.000000  1338.000000  1338.000000   1338.000000\n",
      "mean     39.207025    30.663397     1.094918  13270.422265\n",
      "std      14.049960     6.098187     1.205493  12110.011237\n",
      "min      18.000000    15.960000     0.000000   1121.873900\n",
      "25%      27.000000    26.296250     0.000000   4740.287150\n",
      "50%      39.000000    30.400000     1.000000   9382.033000\n",
      "75%      51.000000    34.693750     2.000000  16639.912515\n",
      "max      64.000000    53.130000     5.000000  63770.428010\n"
     ]
    }
   ],
   "source": [
    "#statistics of the dataframe\n",
    "print(insurance.info())\n",
    "print(insurance.describe())"
   ]
  },
  {
   "cell_type": "code",
   "execution_count": 6,
   "metadata": {},
   "outputs": [
    {
     "name": "stdout",
     "output_type": "stream",
     "text": [
      "0    yes\n",
      "1     no\n",
      "2     no\n",
      "3     no\n",
      "4     no\n",
      "Name: smoker, dtype: object\n"
     ]
    }
   ],
   "source": [
    "#checking what type of data is stored in smoker\n",
    "print(insurance.smoker.head())"
   ]
  },
  {
   "cell_type": "code",
   "execution_count": 8,
   "metadata": {},
   "outputs": [
    {
     "name": "stdout",
     "output_type": "stream",
     "text": [
      "   index  age     sex    bmi  children smoker     region     charges\n",
      "0      0   19  female  27.90         0    yes  southwest  16884.9240\n",
      "1     11   62  female  26.29         0    yes  southeast  27808.7251\n",
      "2     14   27    male  42.13         0    yes  southeast  39611.7577\n",
      "3     19   30    male  35.30         0    yes  southwest  36837.4670\n",
      "4     23   34  female  31.92         1    yes  northeast  37701.8768\n"
     ]
    }
   ],
   "source": [
    "smokers = insurance[insurance.smoker == 'yes']\n",
    "#resetting the indexes\n",
    "smokers = smokers.reset_index()\n",
    "print(smokers.head())"
   ]
  },
  {
   "cell_type": "code",
   "execution_count": 9,
   "metadata": {},
   "outputs": [
    {
     "name": "stdout",
     "output_type": "stream",
     "text": [
      "The different regions in this dataframe is:\n",
      "['southwest' 'southeast' 'northwest' 'northeast']\n"
     ]
    }
   ],
   "source": [
    "#checking the different unique values in each of the columns\n",
    "print('The different regions in this dataframe is:')\n",
    "print(insurance.region.unique())"
   ]
  },
  {
   "cell_type": "markdown",
   "metadata": {},
   "source": [
    "# We will bin the age groups so that we can make easy histograms and graphs"
   ]
  },
  {
   "cell_type": "code",
   "execution_count": 11,
   "metadata": {},
   "outputs": [
    {
     "name": "stdout",
     "output_type": "stream",
     "text": [
      "The maximum age in the data sheet is\n",
      "64\n",
      "The minimum age in the data sheet is\n",
      "18\n"
     ]
    }
   ],
   "source": [
    "#checking the max and min\n",
    "age_max = insurance.age.max()\n",
    "age_min = insurance.age.min()\n",
    "print('The maximum age in the data sheet is')\n",
    "print(age_max)\n",
    "print('The minimum age in the data sheet is')\n",
    "print(age_min)"
   ]
  },
  {
   "cell_type": "code",
   "execution_count": 18,
   "metadata": {},
   "outputs": [
    {
     "name": "stdout",
     "output_type": "stream",
     "text": [
      "  binned_age  age\n",
      "0   (10, 20]   19\n",
      "1   (10, 20]   18\n",
      "2   (20, 30]   28\n",
      "3   (30, 40]   33\n",
      "4   (30, 40]   32\n"
     ]
    }
   ],
   "source": [
    "#the age group starts from 10 to 70\n",
    "bins = [10, 20, 30, 40, 50, 60, 70]\n",
    "insurance['binned_age'] = pd.cut(insurance['age'], bins)\n",
    "#checking on the new column\n",
    "print(insurance[['binned_age', 'age']].head())"
   ]
  },
  {
   "cell_type": "code",
   "execution_count": 26,
   "metadata": {},
   "outputs": [
    {
     "data": {
      "image/png": "[encoded data removed]",
      "text/plain": [
       "<Figure size 432x288 with 1 Axes>"
      ]
     },
     "metadata": {
      "needs_background": "light"
     },
     "output_type": "display_data"
    }
   ],
   "source": [
    "from matplotlib import pyplot as plt\n",
    "mean_age = insurance.age.mean()\n",
    "plt.hist(insurance.age, range = (18, 64), bins = 7, edgecolor = 'black')\n",
    "plt.xlabel('Age')\n",
    "plt.ylabel('Count')\n",
    "plt.title('Age Histogram')\n",
    "plt.axvline(mean_age, color = 'r')\n",
    "plt.show()"
   ]
  },
  {
   "cell_type": "code",
   "execution_count": 28,
   "metadata": {},
   "outputs": [
    {
     "name": "stderr",
     "output_type": "stream",
     "text": [
      "C:\\Users\\lisa\\anaconda3\\lib\\site-packages\\seaborn\\_decorators.py:36: FutureWarning: Pass the following variable as a keyword arg: x. From version 0.12, the only valid positional argument will be `data`, and passing other arguments without an explicit keyword will result in an error or misinterpretation.\n",
      "  warnings.warn(\n"
     ]
    },
    {
     "data": {
      "image/png": "[encoded data removed]",
      "text/plain": [
       "<Figure size 432x288 with 1 Axes>"
      ]
     },
     "metadata": {
      "needs_background": "light"
     },
     "output_type": "display_data"
    }
   ],
   "source": [
    "#plotting a bar chat\n",
    "import seaborn as sns\n",
    "sns.countplot(insurance['sex'])\n",
    "plt.show()"
   ]
  },
  {
   "cell_type": "code",
   "execution_count": 30,
   "metadata": {},
   "outputs": [
    {
     "name": "stderr",
     "output_type": "stream",
     "text": [
      "C:\\Users\\lisa\\anaconda3\\lib\\site-packages\\seaborn\\_decorators.py:36: FutureWarning: Pass the following variable as a keyword arg: x. From version 0.12, the only valid positional argument will be `data`, and passing other arguments without an explicit keyword will result in an error or misinterpretation.\n",
      "  warnings.warn(\n"
     ]
    },
    {
     "data": {
      "image/png": "[encoded data removed]",
      "text/plain": [
       "<Figure size 432x288 with 1 Axes>"
      ]
     },
     "metadata": {
      "needs_background": "light"
     },
     "output_type": "display_data"
    }
   ],
   "source": [
    "#making a bar plot of the regions\n",
    "sns.countplot(insurance['region'])\n",
    "plt.show()"
   ]
  },
  {
   "cell_type": "code",
   "execution_count": 33,
   "metadata": {},
   "outputs": [
    {
     "data": {
      "image/png": "[encoded data removed]",
      "text/plain": [
       "<Figure size 432x288 with 1 Axes>"
      ]
     },
     "metadata": {
      "needs_background": "light"
     },
     "output_type": "display_data"
    }
   ],
   "source": [
    "#making box plots of regions and bmis\n",
    "sns.boxplot(data = insurance, x = 'region', y = 'bmi')\n",
    "plt.show()"
   ]
  }
 ],
 "metadata": {
  "kernelspec": {
   "display_name": "Python 3",
   "language": "python",
   "name": "python3"
  },
  "language_info": {
   "codemirror_mode": {
    "name": "ipython",
    "version": 3
   },
   "file_extension": ".py",
   "mimetype": "text/x-python",
   "name": "python",
   "nbconvert_exporter": "python",
   "pygments_lexer": "ipython3",
   "version": "3.8.5"
  }
 },
 "nbformat": 4,
 "nbformat_minor": 4
}
